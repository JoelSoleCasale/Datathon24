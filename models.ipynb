{
 "cells": [
  {
   "cell_type": "code",
   "execution_count": 24,
   "metadata": {},
   "outputs": [],
   "source": [
    "from sklearn.ensemble import RandomForestClassifier\n",
    "from sklearn.multioutput import MultiOutputClassifier\n",
    "from sklearn.model_selection import train_test_split\n",
    "from sklearn.metrics import classification_report\n",
    "import numpy as np\n",
    "import pandas as pd"
   ]
  },
  {
   "cell_type": "code",
   "execution_count": 9,
   "metadata": {},
   "outputs": [
    {
     "name": "stdout",
     "output_type": "stream",
     "text": [
      "(100, 512)\n",
      "(61484, 63)\n"
     ]
    }
   ],
   "source": [
    "num_samples = 100\n",
    "embedding_size = 512\n",
    "image_embeddings = np.random.randn(num_samples, embedding_size)\n",
    "print(image_embeddings.shape)\n",
    "\n",
    "cols = [\n",
    "    'cod_modelo_color', 'des_filename','des_sex','des_age','des_fabric','des_product_type'\n",
    "]\n",
    "metadata_df = pd.read_csv('data/product_data.csv')[cols]\n",
    "# One-hot encode all columns except the first\n",
    "metadata_encoded = pd.get_dummies(metadata_df.iloc[:, 2:], drop_first=False)\n",
    "\n",
    "# Combine the first column back with the encoded columns\n",
    "metadata_encoded = pd.concat([metadata_df.iloc[:, [0]], metadata_encoded], axis=1)\n",
    "print(metadata_encoded.values.shape)"
   ]
  },
  {
   "cell_type": "code",
   "execution_count": 12,
   "metadata": {},
   "outputs": [
    {
     "name": "stderr",
     "output_type": "stream",
     "text": [
      "C:\\Users\\thomasg\\AppData\\Local\\Temp\\ipykernel_13904\\834055054.py:13: FutureWarning: DataFrame.applymap has been deprecated. Use DataFrame.map instead.\n",
      "  validity.iloc[:, 1:] = validity.iloc[:, 1:].applymap(lambda x: 0 if x == \"INVALID\" else 1)\n"
     ]
    },
    {
     "data": {
      "text/html": [
       "<div>\n",
       "<style scoped>\n",
       "    .dataframe tbody tr th:only-of-type {\n",
       "        vertical-align: middle;\n",
       "    }\n",
       "\n",
       "    .dataframe tbody tr th {\n",
       "        vertical-align: top;\n",
       "    }\n",
       "\n",
       "    .dataframe thead th {\n",
       "        text-align: right;\n",
       "    }\n",
       "</style>\n",
       "<table border=\"1\" class=\"dataframe\">\n",
       "  <thead>\n",
       "    <tr style=\"text-align: right;\">\n",
       "      <th></th>\n",
       "      <th>cod_modelo_color</th>\n",
       "      <th>cane_height_type</th>\n",
       "      <th>closure_placement</th>\n",
       "      <th>heel_shape_type</th>\n",
       "      <th>knit_structure</th>\n",
       "      <th>length_type</th>\n",
       "      <th>neck_lapel_type</th>\n",
       "      <th>silhouette_type</th>\n",
       "      <th>sleeve_length_type</th>\n",
       "      <th>toecap_type</th>\n",
       "      <th>waist_type</th>\n",
       "      <th>woven_structure</th>\n",
       "    </tr>\n",
       "  </thead>\n",
       "  <tbody>\n",
       "    <tr>\n",
       "      <th>0</th>\n",
       "      <td>81_1034451</td>\n",
       "      <td>0</td>\n",
       "      <td>0</td>\n",
       "      <td>0</td>\n",
       "      <td>0</td>\n",
       "      <td>0</td>\n",
       "      <td>1</td>\n",
       "      <td>1</td>\n",
       "      <td>1</td>\n",
       "      <td>0</td>\n",
       "      <td>0</td>\n",
       "      <td>0</td>\n",
       "    </tr>\n",
       "    <tr>\n",
       "      <th>1</th>\n",
       "      <td>81_1034525</td>\n",
       "      <td>0</td>\n",
       "      <td>0</td>\n",
       "      <td>0</td>\n",
       "      <td>0</td>\n",
       "      <td>0</td>\n",
       "      <td>1</td>\n",
       "      <td>1</td>\n",
       "      <td>1</td>\n",
       "      <td>0</td>\n",
       "      <td>0</td>\n",
       "      <td>0</td>\n",
       "    </tr>\n",
       "    <tr>\n",
       "      <th>2</th>\n",
       "      <td>81_1035318</td>\n",
       "      <td>0</td>\n",
       "      <td>0</td>\n",
       "      <td>0</td>\n",
       "      <td>0</td>\n",
       "      <td>1</td>\n",
       "      <td>0</td>\n",
       "      <td>0</td>\n",
       "      <td>0</td>\n",
       "      <td>0</td>\n",
       "      <td>0</td>\n",
       "      <td>0</td>\n",
       "    </tr>\n",
       "    <tr>\n",
       "      <th>3</th>\n",
       "      <td>81_1035321</td>\n",
       "      <td>0</td>\n",
       "      <td>0</td>\n",
       "      <td>0</td>\n",
       "      <td>0</td>\n",
       "      <td>1</td>\n",
       "      <td>0</td>\n",
       "      <td>0</td>\n",
       "      <td>0</td>\n",
       "      <td>0</td>\n",
       "      <td>0</td>\n",
       "      <td>0</td>\n",
       "    </tr>\n",
       "    <tr>\n",
       "      <th>4</th>\n",
       "      <td>81_1035361</td>\n",
       "      <td>0</td>\n",
       "      <td>0</td>\n",
       "      <td>0</td>\n",
       "      <td>0</td>\n",
       "      <td>1</td>\n",
       "      <td>1</td>\n",
       "      <td>0</td>\n",
       "      <td>0</td>\n",
       "      <td>0</td>\n",
       "      <td>0</td>\n",
       "      <td>0</td>\n",
       "    </tr>\n",
       "  </tbody>\n",
       "</table>\n",
       "</div>"
      ],
      "text/plain": [
       "  cod_modelo_color cane_height_type closure_placement heel_shape_type  \\\n",
       "0       81_1034451                0                 0               0   \n",
       "1       81_1034525                0                 0               0   \n",
       "2       81_1035318                0                 0               0   \n",
       "3       81_1035321                0                 0               0   \n",
       "4       81_1035361                0                 0               0   \n",
       "\n",
       "  knit_structure length_type neck_lapel_type silhouette_type  \\\n",
       "0              0           0               1               1   \n",
       "1              0           0               1               1   \n",
       "2              0           1               0               0   \n",
       "3              0           1               0               0   \n",
       "4              0           1               1               0   \n",
       "\n",
       "  sleeve_length_type toecap_type waist_type woven_structure  \n",
       "0                  1           0          0               0  \n",
       "1                  1           0          0               0  \n",
       "2                  0           0          0               0  \n",
       "3                  0           0          0               0  \n",
       "4                  0           0          0               0  "
      ]
     },
     "execution_count": 12,
     "metadata": {},
     "output_type": "execute_result"
    }
   ],
   "source": [
    "import pickle\n",
    "\n",
    "# Path to the pickle file\n",
    "pickle_file = 'embeddings/embeddings_fclip.pkl'\n",
    "\n",
    "# Load the data from the pickle file\n",
    "with open(pickle_file, 'rb') as file:\n",
    "    data = pickle.load(file)\n",
    "    \n",
    "labels = pd.read_csv('transformed_attribute_data.csv')\n",
    "# Create a new DataFrame with the transformed values\n",
    "validity = labels.copy()\n",
    "validity.iloc[:, 1:] = validity.iloc[:, 1:].applymap(lambda x: 0 if x == \"INVALID\" else 1)\n",
    "\n",
    "# Display the new DataFrame\n",
    "validity.head()"
   ]
  },
  {
   "cell_type": "code",
   "execution_count": 19,
   "metadata": {},
   "outputs": [],
   "source": [
    "# Ensure X and Y are mutable by converting them to lists for appending\n",
    "X = []\n",
    "Y = []\n",
    "\n",
    "# Iterate over each key in the dictionary\n",
    "for key, value in data.items():\n",
    "    # Find the row in 'validity' where the first column matches the key\n",
    "    matching_rows = validity[validity.iloc[:, 0].apply(lambda x: x in key)]\n",
    "    \n",
    "    # Extract all columns except the first one for the matching rows\n",
    "    if not matching_rows.empty:\n",
    "        for _, row in matching_rows.iterrows():\n",
    "            Y.append(row.iloc[1:].values)\n",
    "            X.append(value)\n",
    "\n",
    "# Convert X and Y back to numpy arrays after appending\n",
    "X = np.array(X)\n",
    "y = np.array(Y)"
   ]
  },
  {
   "cell_type": "code",
   "execution_count": 55,
   "metadata": {},
   "outputs": [
    {
     "name": "stdout",
     "output_type": "stream",
     "text": [
      "#####################\n",
      "cane_height_type\n",
      "#####################\n",
      "Dummy\n",
      "0.991704889235874\n",
      "#####################\n",
      "closure_placement\n",
      "#####################\n",
      "Dummy\n",
      "0.5370352298233629\n",
      "#####################\n",
      "heel_shape_type\n",
      "#####################\n",
      "Dummy\n",
      "0.9628509157151687\n",
      "#####################\n",
      "knit_structure\n",
      "#####################\n",
      "Dummy\n",
      "0.8443772160957679\n",
      "#####################\n",
      "length_type\n",
      "#####################\n",
      "Dummy\n",
      "0.8419862724049315\n",
      "#####################\n",
      "neck_lapel_type\n",
      "#####################\n",
      "Dummy\n",
      "0.6515077583683029\n",
      "#####################\n",
      "silhouette_type\n",
      "#####################\n",
      "Dummy\n",
      "0.8590969714713249\n",
      "#####################\n",
      "sleeve_length_type\n",
      "#####################\n",
      "Dummy\n",
      "0.6436355356039166\n",
      "#####################\n",
      "toecap_type\n",
      "#####################\n",
      "Dummy\n",
      "0.9662177547900198\n",
      "#####################\n",
      "waist_type\n",
      "#####################\n",
      "Dummy\n",
      "0.7934680068963273\n",
      "#####################\n",
      "woven_structure\n",
      "#####################\n",
      "Dummy\n",
      "0.65110113529163\n"
     ]
    }
   ],
   "source": [
    "# Split data\n",
    "X_train, X_test, y_train, y_test = train_test_split(X, y.astype(int), test_size=0.2, random_state=42)\n",
    "colnames = labels.columns[1:]\n",
    "\n",
    "a = np.mean(y, axis=0)\n",
    "a = np.max((1-a, a), axis=0)\n",
    "\n",
    "for i in range(y_test.shape[1]):\n",
    "    print(\"#####################\")\n",
    "    print(colnames[i])\n",
    "    print(\"#####################\")\n",
    "    dummyacc = a[i]\n",
    "    print(\"Dummy\")\n",
    "    print(dummyacc)\n",
    "    # # Train classifier\n",
    "    # clf = RandomForestClassifier(n_estimators=100, random_state=42)\n",
    "    # clf.fit(X_train, y_train[:,i])\n",
    "    # # Evaluate\n",
    "    # y_pred = clf.predict(X_test)\n",
    "    # print(\"Classifier\")\n",
    "    # print(classification_report(y_test[:,i], y_pred))"
   ]
  },
  {
   "cell_type": "code",
   "execution_count": null,
   "metadata": {},
   "outputs": [
    {
     "name": "stdout",
     "output_type": "stream",
     "text": [
      "Dummy\n",
      "0.9912173700902659\n"
     ]
    }
   ],
   "source": []
  },
  {
   "cell_type": "code",
   "execution_count": 38,
   "metadata": {},
   "outputs": [
    {
     "data": {
      "text/plain": [
       "np.float64(0.9912173700902659)"
      ]
     },
     "execution_count": 38,
     "metadata": {},
     "output_type": "execute_result"
    }
   ],
   "source": [
    "max(1-dummyacc, dummyacc)"
   ]
  }
 ],
 "metadata": {
  "kernelspec": {
   "display_name": "Python 3",
   "language": "python",
   "name": "python3"
  },
  "language_info": {
   "codemirror_mode": {
    "name": "ipython",
    "version": 3
   },
   "file_extension": ".py",
   "mimetype": "text/x-python",
   "name": "python",
   "nbconvert_exporter": "python",
   "pygments_lexer": "ipython3",
   "version": "undefined.undefined.undefined"
  }
 },
 "nbformat": 4,
 "nbformat_minor": 2
}
