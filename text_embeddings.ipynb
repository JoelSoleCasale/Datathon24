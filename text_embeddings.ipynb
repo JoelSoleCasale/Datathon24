{
 "cells": [
  {
   "cell_type": "code",
   "execution_count": 1,
   "metadata": {},
   "outputs": [],
   "source": [
    "import pandas as pd\n",
    "import numpy as np\n",
    "import pickle as pkl\n",
    "from fashion_clip.fashion_clip import FashionCLIP\n",
    "from typing import Literal\n",
    "\n",
    "BATCH_SIZE = 32\n",
    "\n",
    "fclip = FashionCLIP('fashion-clip')"
   ]
  },
  {
   "cell_type": "code",
   "execution_count": 2,
   "metadata": {},
   "outputs": [],
   "source": [
    "long_attr_descr = {\n",
    "    'cane_height_type': \"Height of a cane, defining its length.\",\n",
    "    'closure_placement': \"Position of garment closures like zippers or buttons.\",\n",
    "    'heel_shape_type': \"Shape of a shoe's heel, e.g., block or stiletto.\",\n",
    "    'knit_structure': \"Fabric knitting style, like ribbed or plain.\",\n",
    "    'length_type': \"Length of a garment or part, e.g., cropped or full-length.\",\n",
    "    'neck_lapel_type': \"Shape of necklines or lapels, e.g., V-neck or shawl.\",\n",
    "    'silhouette_type': \"Overall garment shape, e.g., A-line or sheath.\",\n",
    "    'sleeve_length_type': \"Sleeve length, e.g., short, long, or sleeveless.\",\n",
    "    'toecap_type': \"Toe design in footwear, e.g., closed or open-toe.\",\n",
    "    'waist_type': \"Design at the waist, e.g., high-waisted or elastic.\",\n",
    "    'woven_structure': \"Weaving style, like twill or satin.\"\n",
    "}\n",
    "\n",
    "short_attr_descr = {\n",
    "    'cane_height_type': \"Cane height\",\n",
    "    'closure_placement': \"Closure position\",\n",
    "    'heel_shape_type': \"Heel shape\",\n",
    "    'knit_structure': \"Knit pattern\",\n",
    "    'length_type': \"Garment length\",\n",
    "    'neck_lapel_type': \"Neckline style\",\n",
    "    'silhouette_type': \"Garment shape\",\n",
    "    'sleeve_length_type': \"Sleeve length\",\n",
    "    'toecap_type': \"Toe design\",\n",
    "    'waist_type': \"Waist style\",\n",
    "    'woven_structure': \"Weave pattern\"\n",
    "}\n",
    "\n",
    "long_subattr_descr = {\n",
    "    'cane_height_type': {\n",
    "        'Bloque': \"Block-style heel, providing stability and comfort.\",\n",
    "        'Cuña': \"Wedge heel, distributing weight evenly.\",\n",
    "        'Cuña abotinada': \"Boot-style wedge heel for enhanced support.\",\n",
    "        'Alta': \"High heel, adding height and elegance.\",\n",
    "        'Baja': \"Low heel, prioritizing comfort and practicality.\",\n",
    "        'Media': \"Mid-height heel, balancing style and comfort.\"\n",
    "    },\n",
    "    'closure_placement': {\n",
    "        'Cuello': \"Closure at the neck area, often with buttons or zippers.\",\n",
    "        'Sin cierre': \"No closure, typically for pull-on garments.\",\n",
    "        'Cierre Delantero': \"Front closure, usually with zippers or buttons.\",\n",
    "        'Cierre Trasero': \"Back closure for discreet fastening.\",\n",
    "        'Cierre Hombro': \"Shoulder closure, often seen in specific designs.\",\n",
    "        'Lateral': \"Side closure, common for skirts or pants.\"\n",
    "    },\n",
    "    'heel_shape_type': {\n",
    "        'Plano': \"Flat heel, prioritizing comfort.\",\n",
    "        'Bloque': \"Block heel, stable and supportive.\",\n",
    "        'Plataforma': \"Platform heel, adding height with even support.\",\n",
    "        'Plataforma plana': \"Flat platform, combining height with comfort.\",\n",
    "        'De aguja': \"Stiletto heel, thin and elegant.\",\n",
    "        'Trompeta': \"Trumpet-shaped heel, flaring at the bottom.\",\n",
    "        'Rectangular': \"Rectangular heel, unique and bold.\",\n",
    "        'Kitten': \"Kitten heel, low and dainty.\",\n",
    "        'Embudo': \"Cone-shaped heel, tapering towards the bottom.\",\n",
    "        'Cuña': \"Wedge heel, offering even support.\",\n",
    "        'Plataforma en la parte delantera': \"Front platform, reducing the incline of high heels.\"\n",
    "    },\n",
    "    'knit_structure': {\n",
    "        'Punto fino': \"Fine knit, lightweight and delicate.\",\n",
    "        'Punto medio': \"Medium knit, versatile and balanced.\",\n",
    "        'Punto grueso': \"Thick knit, warm and cozy.\",\n",
    "        'Hecho a mano': \"Hand-knit, often unique and artisanal.\"\n",
    "    },\n",
    "    'length_type': {\n",
    "        'Largo': \"Long length, extending fully.\",\n",
    "        'Corto': \"Short length, above the knee or shorter.\",\n",
    "        'Standard': \"Standard length, typically mid-thigh to knee.\",\n",
    "        'Crop': \"Cropped length, stopping above the waist.\",\n",
    "        'Medio': \"Medium length, between short and long.\",\n",
    "        'Midi': \"Midi length, reaching mid-calf.\",\n",
    "        'Capri': \"Capri length, ending just below the knee.\",\n",
    "        'Mini/Micro': \"Mini or micro length, very short.\",\n",
    "        'Asimétrico': \"Asymmetric length, varying hems.\",\n",
    "        'Maxi': \"Maxi length, reaching the ankles or floor.\",\n",
    "        'Tres Cuartos': \"Three-quarter length, stopping mid-shin.\",\n",
    "        'Tobillero': \"Ankle-length, stopping at the ankles.\"\n",
    "    },\n",
    "    'neck_lapel_type': {\n",
    "        'Hawaiano/Bowling': \"Hawaiian or bowling-style collar, relaxed and open.\",\n",
    "        'Capucha': \"Hooded neckline, functional and casual.\",\n",
    "        'Regular': \"Standard neckline, versatile and common.\",\n",
    "        'Panadero': \"Baker's collar, simple and practical.\",\n",
    "        'Cutaway': \"Cutaway collar, wide and angled.\",\n",
    "        'Caja': \"Box collar, square and structured.\",\n",
    "        'Pico': \"Pointed collar, sharp and formal.\",\n",
    "        'Mao': \"Mandarin collar, short and upright.\",\n",
    "        'Smoking': \"Tuxedo collar, formal and elegant.\",\n",
    "        'Peak Lapel': \"Pointed lapel, classic and tailored.\",\n",
    "        'Alto/Envolvente': \"High or wrap-around collar, cozy and warm.\",\n",
    "        'Perkins': \"Perkins collar, upright and fitted.\",\n",
    "        'Button Down': \"Button-down collar, practical and neat.\",\n",
    "        'Halter': \"Halter neckline, tied or fastened around the neck.\",\n",
    "        'Escotado': \"Low-cut neckline, revealing.\",\n",
    "        'Redondo': \"Round neckline, simple and classic.\",\n",
    "        'Polo': \"Polo collar, sporty and casual.\",\n",
    "        'Camisero': \"Shirt-style collar, structured and versatile.\",\n",
    "        'Chimenea': \"Chimney collar, high and narrow.\",\n",
    "        'Cisne': \"Swan neckline, high and elegant.\",\n",
    "        'Off Shoulder': \"Off-shoulder neckline, exposing shoulders.\",\n",
    "        'Solapa': \"Lapel, part of the jacket collar.\",\n",
    "        'Cruzado': \"Crossed lapel, overlapping design.\",\n",
    "        'Shawl': \"Shawl lapel, rounded and formal.\",\n",
    "        'Palabra Honor': \"Strapless neckline, exposing shoulders and arms.\",\n",
    "        'Babydoll/Peter Pan': \"Peter Pan collar, round and youthful.\",\n",
    "        'Drapeado': \"Draped neckline, flowing fabric.\",\n",
    "        'Barca': \"Boat neckline, wide and shallow.\",\n",
    "        'Waterfall': \"Waterfall neckline, cascading folds.\",\n",
    "        'Asimétrico': \"Asymmetric neckline, uneven design.\",\n",
    "        'Espalda Abierta': \"Open back neckline, revealing the back.\",\n",
    "        'Kimono': \"Kimono neckline, simple and wide.\",\n",
    "        'Sin solapa': \"No lapel, minimalistic.\"\n",
    "    },\n",
    "    'silhouette_type': {\n",
    "        'Regular': \"Standard fit, neither tight nor loose.\",\n",
    "        'Slim': \"Slim fit, close to the body.\",\n",
    "        '5 Bolsillos': \"Five-pocket style, classic denim design.\",\n",
    "        'Jogger': \"Jogger style, sporty and casual.\",\n",
    "        'Modern slim': \"Modern slim fit, tailored yet comfortable.\",\n",
    "        'Chino': \"Chino style, versatile and semi-formal.\",\n",
    "        'Recto': \"Straight fit, consistent width throughout.\",\n",
    "        'Slouchy': \"Relaxed and oversized fit, comfortable.\",\n",
    "        'Skinny': \"Tight fit, closely contouring the body.\",\n",
    "        'Acampanado/Flare': \"Flared style, widening from the knees.\",\n",
    "        'Push Up': \"Tight fit, enhancing curves.\",\n",
    "        'Mom': \"High-waisted, relaxed fit style.\",\n",
    "        'Evase': \"A-line style, gently flaring out.\",\n",
    "        'Culotte': \"Wide-legged, cropped trousers.\",\n",
    "        'Palazzo': \"Very wide-legged pants, flowing and elegant.\",\n",
    "        'Acampanado/Bootcut': \"Bootcut style, slight flare at the hem.\",\n",
    "        'Cargo': \"Cargo style, with multiple utility pockets.\",\n",
    "        'Boyfriend': \"Relaxed fit, slightly oversized.\",\n",
    "        'Fino': \"Slim and fine fit, closely tailored.\",\n",
    "        'Sarouel': \"Harem-style pants, loose and draped.\",\n",
    "        'Lápiz': \"Pencil fit, tight and narrow.\",\n",
    "        'Ancho': \"Wide fit, loose and flowing.\",\n",
    "        'Oversize': \"Extra-large fit, bold and comfortable.\",\n",
    "        'Halter': \"Halter silhouette, tied or fastened around the neck.\",\n",
    "        'Wide leg': \"Wide-leg trousers, flowing and dramatic.\",\n",
    "        'Paperbag': \"High-waisted with a gathered or belted waist.\",\n",
    "        'Relaxed': \"Casual fit, loose but not oversized.\",\n",
    "        'Tapered': \"Tapered fit, narrowing towards the ankle.\",\n",
    "        'Bandeau': \"Strapless and fitted, around the bust.\",\n",
    "        'Superslim': \"Extremely slim fit, tight throughout.\",\n",
    "        'Loose': \"Relaxed fit, prioritizing comfort.\",\n",
    "        'Carrot': \"Carrot fit, loose at the top and tapered at the ankle.\",\n",
    "        'Parachute': \"Very loose and baggy, inspired by parachute fabric.\"\n",
    "    },\n",
    "    'sleeve_length_type': {\n",
    "        'Corta': \"Short sleeves, ending above the elbow.\",\n",
    "        'Larga': \"Long sleeves, covering the arms completely.\",\n",
    "        'Tirante Ancho': \"Wide straps, covering the shoulders partially.\",\n",
    "        'Tirante Fino': \"Thin straps, minimal coverage.\",\n",
    "        'Sin Manga': \"Sleeveless, no coverage on the arms.\",\n",
    "        'Tres Cuartos': \"Three-quarter sleeves, ending below the elbow.\"\n",
    "    },\n",
    "    'toecap_type': {\n",
    "        'Redonda': \"Round toecap, classic and versatile.\",\n",
    "        'Con punta': \"Pointed toecap, elegant and sharp.\",\n",
    "        'Abierta': \"Open toecap, exposing the toes.\",\n",
    "        'Cuadrada': \"Square toecap, modern and unique.\"\n",
    "    },\n",
    "    'waist_type': {\n",
    "        'Ajustable/Goma': \"Elastic or adjustable waist, flexible fit.\",\n",
    "        'Regular Waist': \"Standard waist, sitting naturally on the hips.\",\n",
    "        'High Waist': \"High-rise waist, sitting above the hips.\",\n",
    "        'Low Waist': \"Low-rise waist, sitting below the hips.\"\n",
    "    },\n",
    "    'woven_structure': {\n",
    "        'Pesado': \"Heavy weave, durable and thick.\",\n",
    "        'Ligero': \"Light weave, airy and breathable.\",\n",
    "        'Medio': \"Medium weave, balanced and versatile.\",\n",
    "        'Elástico': \"Stretch weave, flexible and form-fitting.\"\n",
    "    }\n",
    "}\n",
    "\n",
    "short_subattr_descr = {\n",
    "    'cane_height_type': {\n",
    "        'Bloque': \"Block heel\",\n",
    "        'Cuña': \"Wedge heel\",\n",
    "        'Cuña abotinada': \"Boot wedge\",\n",
    "        'Alta': \"High heel\",\n",
    "        'Baja': \"Low heel\",\n",
    "        'Media': \"Mid heel\"\n",
    "    },\n",
    "    'closure_placement': {\n",
    "        'Cuello': \"Neck closure\",\n",
    "        'Sin cierre': \"No closure\",\n",
    "        'Cierre Delantero': \"Front closure\",\n",
    "        'Cierre Trasero': \"Back closure\",\n",
    "        'Cierre Hombro': \"Shoulder closure\",\n",
    "        'Lateral': \"Side closure\"\n",
    "    },\n",
    "    'heel_shape_type': {\n",
    "        'Plano': \"Flat heel\",\n",
    "        'Bloque': \"Block heel\",\n",
    "        'Plataforma': \"Platform heel\",\n",
    "        'Plataforma plana': \"Flat platform\",\n",
    "        'De aguja': \"Stiletto heel\",\n",
    "        'Trompeta': \"Trumpet heel\",\n",
    "        'Rectangular': \"Rectangular heel\",\n",
    "        'Kitten': \"Kitten heel\",\n",
    "        'Embudo': \"Cone heel\",\n",
    "        'Cuña': \"Wedge heel\",\n",
    "        'Plataforma en la parte delantera': \"Front platform\"\n",
    "    },\n",
    "    'knit_structure': {\n",
    "        'Punto fino': \"Fine knit\",\n",
    "        'Punto medio': \"Medium knit\",\n",
    "        'Punto grueso': \"Thick knit\",\n",
    "        'Hecho a mano': \"Hand-knit\"\n",
    "    },\n",
    "    'length_type': {\n",
    "        'Largo': \"Long length\",\n",
    "        'Corto': \"Short length\",\n",
    "        'Standard': \"Standard length\",\n",
    "        'Crop': \"Cropped length\",\n",
    "        'Medio': \"Medium length\",\n",
    "        'Midi': \"Midi length\",\n",
    "        'Capri': \"Capri length\",\n",
    "        'Mini/Micro': \"Mini length\",\n",
    "        'Asimétrico': \"Asymmetric length\",\n",
    "        'Maxi': \"Maxi length\",\n",
    "        'Tres Cuartos': \"Three-quarter\",\n",
    "        'Tobillero': \"Ankle length\"\n",
    "    },\n",
    "    'neck_lapel_type': {\n",
    "        'Hawaiano/Bowling': \"Hawaiian collar\",\n",
    "        'Capucha': \"Hooded collar\",\n",
    "        'Regular': \"Standard collar\",\n",
    "        'Panadero': \"Baker's collar\",\n",
    "        'Cutaway': \"Cutaway collar\",\n",
    "        'Caja': \"Box collar\",\n",
    "        'Pico': \"Pointed collar\",\n",
    "        'Mao': \"Mandarin collar\",\n",
    "        'Smoking': \"Tuxedo collar\",\n",
    "        'Peak Lapel': \"Peak lapel\",\n",
    "        'Alto/Envolvente': \"Wrap collar\",\n",
    "        'Perkins': \"Perkins collar\",\n",
    "        'Button Down': \"Button-down\",\n",
    "        'Halter': \"Halter neck\",\n",
    "        'Escotado': \"Low-cut\",\n",
    "        'Redondo': \"Round neck\",\n",
    "        'Polo': \"Polo collar\",\n",
    "        'Camisero': \"Shirt collar\",\n",
    "        'Chimenea': \"Chimney neck\",\n",
    "        'Cisne': \"Swan neck\",\n",
    "        'Off Shoulder': \"Off-shoulder\",\n",
    "        'Solapa': \"Lapel\",\n",
    "        'Cruzado': \"Crossed lapel\",\n",
    "        'Shawl': \"Shawl lapel\",\n",
    "        'Palabra Honor': \"Strapless\",\n",
    "        'Babydoll/Peter Pan': \"Peter Pan\",\n",
    "        'Drapeado': \"Draped neck\",\n",
    "        'Barca': \"Boat neck\",\n",
    "        'Waterfall': \"Waterfall neck\",\n",
    "        'Asimétrico': \"Asymmetric neck\",\n",
    "        'Espalda Abierta': \"Open back\",\n",
    "        'Kimono': \"Kimono neck\",\n",
    "        'Sin solapa': \"No lapel\"\n",
    "    },\n",
    "    'silhouette_type': {\n",
    "        'Regular': \"Standard fit\",\n",
    "        'Slim': \"Slim fit\",\n",
    "        '5 Bolsillos': \"Five pockets\",\n",
    "        'Jogger': \"Jogger fit\",\n",
    "        'Modern slim': \"Modern slim\",\n",
    "        'Chino': \"Chino style\",\n",
    "        'Recto': \"Straight fit\",\n",
    "        'Slouchy': \"Loose fit\",\n",
    "        'Skinny': \"Tight fit\",\n",
    "        'Acampanado/Flare': \"Flared fit\",\n",
    "        'Push Up': \"Lifted fit\",\n",
    "        'Mom': \"Mom jeans\",\n",
    "        'Evase': \"A-line fit\",\n",
    "        'Culotte': \"Wide cropped\",\n",
    "        'Palazzo': \"Flowy wide\",\n",
    "        'Acampanado/Bootcut': \"Bootcut fit\",\n",
    "        'Cargo': \"Cargo style\",\n",
    "        'Boyfriend': \"Relaxed fit\",\n",
    "        'Fino': \"Thin fit\",\n",
    "        'Sarouel': \"Harem pants\",\n",
    "        'Lápiz': \"Pencil shape\",\n",
    "        'Ancho': \"Wide fit\",\n",
    "        'Oversize': \"Oversized fit\",\n",
    "        'Halter': \"Halter fit\",\n",
    "        'Wide leg': \"Wide leg\",\n",
    "        'Paperbag': \"Cinched waist\",\n",
    "        'Relaxed': \"Relaxed fit\",\n",
    "        'Tapered': \"Tapered fit\",\n",
    "        'Bandeau': \"Strapless fit\",\n",
    "        'Superslim': \"Extra slim\",\n",
    "        'Loose': \"Loose fit\",\n",
    "        'Carrot': \"Carrot shape\",\n",
    "        'Parachute': \"Puffy fit\"\n",
    "    },\n",
    "    'sleeve_length_type': {\n",
    "        'Corta': \"Short sleeve\",\n",
    "        'Larga': \"Long sleeve\",\n",
    "        'Tirante Ancho': \"Wide strap\",\n",
    "        'Tirante Fino': \"Thin strap\",\n",
    "        'Sin Manga': \"Sleeveless\",\n",
    "        'Tres Cuartos': \"Three-quarter\"\n",
    "    },\n",
    "    'toecap_type': {\n",
    "        'Redonda': \"Round toe\",\n",
    "        'Con punta': \"Pointed toe\",\n",
    "        'Abierta': \"Open toe\",\n",
    "        'Cuadrada': \"Square toe\"\n",
    "    },\n",
    "    'waist_type': {\n",
    "        'Ajustable/Goma': \"Elastic waist\",\n",
    "        'Regular Waist': \"Standard waist\",\n",
    "        'High Waist': \"High waist\",\n",
    "        'Low Waist': \"Low waist\"\n",
    "    },\n",
    "    'woven_structure': {\n",
    "        'Pesado': \"Heavy weave\",\n",
    "        'Ligero': \"Light weave\",\n",
    "        'Medio': \"Medium weave\",\n",
    "        'Elástico': \"Stretch weave\"\n",
    "    }\n",
    "}\n"
   ]
  },
  {
   "cell_type": "code",
   "execution_count": 3,
   "metadata": {},
   "outputs": [
    {
     "data": {
      "application/vnd.jupyter.widget-view+json": {
       "model_id": "a7df442ba3a94c8ba6b0b6eb32e8300b",
       "version_major": 2,
       "version_minor": 0
      },
      "text/plain": [
       "Map:   0%|          | 0/11 [00:00<?, ? examples/s]"
      ]
     },
     "metadata": {},
     "output_type": "display_data"
    },
    {
     "name": "stderr",
     "output_type": "stream",
     "text": [
      "1it [00:00,  2.47it/s]\n"
     ]
    },
    {
     "data": {
      "application/vnd.jupyter.widget-view+json": {
       "model_id": "753227cf76a94c4ba6dd100f599dc691",
       "version_major": 2,
       "version_minor": 0
      },
      "text/plain": [
       "Map:   0%|          | 0/11 [00:00<?, ? examples/s]"
      ]
     },
     "metadata": {},
     "output_type": "display_data"
    },
    {
     "name": "stderr",
     "output_type": "stream",
     "text": [
      "1it [00:00,  2.40it/s]\n"
     ]
    },
    {
     "data": {
      "application/vnd.jupyter.widget-view+json": {
       "model_id": "ac6c51c81d734765841e6e8034d80c8c",
       "version_major": 2,
       "version_minor": 0
      },
      "text/plain": [
       "Map:   0%|          | 0/6 [00:00<?, ? examples/s]"
      ]
     },
     "metadata": {},
     "output_type": "display_data"
    },
    {
     "name": "stderr",
     "output_type": "stream",
     "text": [
      "1it [00:00,  4.11it/s]\n"
     ]
    },
    {
     "data": {
      "application/vnd.jupyter.widget-view+json": {
       "model_id": "2ed6e5c8b3cb4eafb2cb03090b91d9b2",
       "version_major": 2,
       "version_minor": 0
      },
      "text/plain": [
       "Map:   0%|          | 0/6 [00:00<?, ? examples/s]"
      ]
     },
     "metadata": {},
     "output_type": "display_data"
    },
    {
     "name": "stderr",
     "output_type": "stream",
     "text": [
      "1it [00:00,  4.00it/s]\n"
     ]
    },
    {
     "data": {
      "application/vnd.jupyter.widget-view+json": {
       "model_id": "c84fe5daeacb4755afef9cbf957a4428",
       "version_major": 2,
       "version_minor": 0
      },
      "text/plain": [
       "Map:   0%|          | 0/11 [00:00<?, ? examples/s]"
      ]
     },
     "metadata": {},
     "output_type": "display_data"
    },
    {
     "name": "stderr",
     "output_type": "stream",
     "text": [
      "1it [00:00,  2.41it/s]\n"
     ]
    },
    {
     "data": {
      "application/vnd.jupyter.widget-view+json": {
       "model_id": "de90176159d44a4eb91bf8bbd47c7e59",
       "version_major": 2,
       "version_minor": 0
      },
      "text/plain": [
       "Map:   0%|          | 0/4 [00:00<?, ? examples/s]"
      ]
     },
     "metadata": {},
     "output_type": "display_data"
    },
    {
     "name": "stderr",
     "output_type": "stream",
     "text": [
      "1it [00:00,  5.34it/s]\n"
     ]
    },
    {
     "data": {
      "application/vnd.jupyter.widget-view+json": {
       "model_id": "6e5fbfeee0e84751a3c166953197c3b4",
       "version_major": 2,
       "version_minor": 0
      },
      "text/plain": [
       "Map:   0%|          | 0/12 [00:00<?, ? examples/s]"
      ]
     },
     "metadata": {},
     "output_type": "display_data"
    },
    {
     "name": "stderr",
     "output_type": "stream",
     "text": [
      "1it [00:00,  2.25it/s]\n"
     ]
    },
    {
     "data": {
      "application/vnd.jupyter.widget-view+json": {
       "model_id": "72187a386d064ae4a98a26d192fccc0d",
       "version_major": 2,
       "version_minor": 0
      },
      "text/plain": [
       "Map:   0%|          | 0/33 [00:00<?, ? examples/s]"
      ]
     },
     "metadata": {},
     "output_type": "display_data"
    },
    {
     "name": "stderr",
     "output_type": "stream",
     "text": [
      "2it [00:01,  1.81it/s]                       \n"
     ]
    },
    {
     "data": {
      "application/vnd.jupyter.widget-view+json": {
       "model_id": "bfc051070d7e42c889f65e615cc06a26",
       "version_major": 2,
       "version_minor": 0
      },
      "text/plain": [
       "Map:   0%|          | 0/33 [00:00<?, ? examples/s]"
      ]
     },
     "metadata": {},
     "output_type": "display_data"
    },
    {
     "name": "stderr",
     "output_type": "stream",
     "text": [
      "2it [00:01,  1.74it/s]                       \n"
     ]
    },
    {
     "data": {
      "application/vnd.jupyter.widget-view+json": {
       "model_id": "bf1a54a6c46f4a1cb7639c97418c7400",
       "version_major": 2,
       "version_minor": 0
      },
      "text/plain": [
       "Map:   0%|          | 0/6 [00:00<?, ? examples/s]"
      ]
     },
     "metadata": {},
     "output_type": "display_data"
    },
    {
     "name": "stderr",
     "output_type": "stream",
     "text": [
      "1it [00:00,  3.90it/s]\n"
     ]
    },
    {
     "data": {
      "application/vnd.jupyter.widget-view+json": {
       "model_id": "8a1acc949a264c118280c57fe643f809",
       "version_major": 2,
       "version_minor": 0
      },
      "text/plain": [
       "Map:   0%|          | 0/4 [00:00<?, ? examples/s]"
      ]
     },
     "metadata": {},
     "output_type": "display_data"
    },
    {
     "name": "stderr",
     "output_type": "stream",
     "text": [
      "1it [00:00,  5.05it/s]\n"
     ]
    },
    {
     "data": {
      "application/vnd.jupyter.widget-view+json": {
       "model_id": "9be388ba4fb948dbae0ddce545f4cb6e",
       "version_major": 2,
       "version_minor": 0
      },
      "text/plain": [
       "Map:   0%|          | 0/4 [00:00<?, ? examples/s]"
      ]
     },
     "metadata": {},
     "output_type": "display_data"
    },
    {
     "name": "stderr",
     "output_type": "stream",
     "text": [
      "1it [00:00,  5.28it/s]\n"
     ]
    },
    {
     "data": {
      "application/vnd.jupyter.widget-view+json": {
       "model_id": "d3e079d7a4b14f67807daeba3f8fec22",
       "version_major": 2,
       "version_minor": 0
      },
      "text/plain": [
       "Map:   0%|          | 0/4 [00:00<?, ? examples/s]"
      ]
     },
     "metadata": {},
     "output_type": "display_data"
    },
    {
     "name": "stderr",
     "output_type": "stream",
     "text": [
      "1it [00:00,  5.02it/s]\n"
     ]
    },
    {
     "data": {
      "application/vnd.jupyter.widget-view+json": {
       "model_id": "2d34634381184a4c9134a2de3181a7b8",
       "version_major": 2,
       "version_minor": 0
      },
      "text/plain": [
       "Map:   0%|          | 0/6 [00:00<?, ? examples/s]"
      ]
     },
     "metadata": {},
     "output_type": "display_data"
    },
    {
     "name": "stderr",
     "output_type": "stream",
     "text": [
      "1it [00:00,  3.04it/s]\n"
     ]
    },
    {
     "data": {
      "application/vnd.jupyter.widget-view+json": {
       "model_id": "a0ea9925fabb47a6b6a66870d5fb1f23",
       "version_major": 2,
       "version_minor": 0
      },
      "text/plain": [
       "Map:   0%|          | 0/6 [00:00<?, ? examples/s]"
      ]
     },
     "metadata": {},
     "output_type": "display_data"
    },
    {
     "name": "stderr",
     "output_type": "stream",
     "text": [
      "1it [00:00,  4.08it/s]\n"
     ]
    },
    {
     "data": {
      "application/vnd.jupyter.widget-view+json": {
       "model_id": "8cd8288cf8d24b158348e463bc669ef4",
       "version_major": 2,
       "version_minor": 0
      },
      "text/plain": [
       "Map:   0%|          | 0/11 [00:00<?, ? examples/s]"
      ]
     },
     "metadata": {},
     "output_type": "display_data"
    },
    {
     "name": "stderr",
     "output_type": "stream",
     "text": [
      "1it [00:00,  2.34it/s]\n"
     ]
    },
    {
     "data": {
      "application/vnd.jupyter.widget-view+json": {
       "model_id": "b5239094504c469b8b575e47e5ec86b0",
       "version_major": 2,
       "version_minor": 0
      },
      "text/plain": [
       "Map:   0%|          | 0/4 [00:00<?, ? examples/s]"
      ]
     },
     "metadata": {},
     "output_type": "display_data"
    },
    {
     "name": "stderr",
     "output_type": "stream",
     "text": [
      "1it [00:00,  4.46it/s]\n"
     ]
    },
    {
     "data": {
      "application/vnd.jupyter.widget-view+json": {
       "model_id": "eceea33c6a854a789cea32b64b875428",
       "version_major": 2,
       "version_minor": 0
      },
      "text/plain": [
       "Map:   0%|          | 0/12 [00:00<?, ? examples/s]"
      ]
     },
     "metadata": {},
     "output_type": "display_data"
    },
    {
     "name": "stderr",
     "output_type": "stream",
     "text": [
      "1it [00:00,  2.22it/s]\n"
     ]
    },
    {
     "data": {
      "application/vnd.jupyter.widget-view+json": {
       "model_id": "1cfda1cec81e4fbea978fbccd8893479",
       "version_major": 2,
       "version_minor": 0
      },
      "text/plain": [
       "Map:   0%|          | 0/33 [00:00<?, ? examples/s]"
      ]
     },
     "metadata": {},
     "output_type": "display_data"
    },
    {
     "name": "stderr",
     "output_type": "stream",
     "text": [
      "2it [00:01,  1.96it/s]                       \n"
     ]
    },
    {
     "data": {
      "application/vnd.jupyter.widget-view+json": {
       "model_id": "898c52254a8b4d0686ffbaee87eb1074",
       "version_major": 2,
       "version_minor": 0
      },
      "text/plain": [
       "Map:   0%|          | 0/33 [00:00<?, ? examples/s]"
      ]
     },
     "metadata": {},
     "output_type": "display_data"
    },
    {
     "name": "stderr",
     "output_type": "stream",
     "text": [
      "2it [00:01,  1.81it/s]                       \n"
     ]
    },
    {
     "data": {
      "application/vnd.jupyter.widget-view+json": {
       "model_id": "3807c08fa0364b34b32a6b5015e9bbbd",
       "version_major": 2,
       "version_minor": 0
      },
      "text/plain": [
       "Map:   0%|          | 0/6 [00:00<?, ? examples/s]"
      ]
     },
     "metadata": {},
     "output_type": "display_data"
    },
    {
     "name": "stderr",
     "output_type": "stream",
     "text": [
      "1it [00:00,  3.96it/s]\n"
     ]
    },
    {
     "data": {
      "application/vnd.jupyter.widget-view+json": {
       "model_id": "b1bf8bf822044da39ca82fb6d522267f",
       "version_major": 2,
       "version_minor": 0
      },
      "text/plain": [
       "Map:   0%|          | 0/4 [00:00<?, ? examples/s]"
      ]
     },
     "metadata": {},
     "output_type": "display_data"
    },
    {
     "name": "stderr",
     "output_type": "stream",
     "text": [
      "1it [00:00,  5.15it/s]\n"
     ]
    },
    {
     "data": {
      "application/vnd.jupyter.widget-view+json": {
       "model_id": "958616e166f74940b733bf6997357035",
       "version_major": 2,
       "version_minor": 0
      },
      "text/plain": [
       "Map:   0%|          | 0/4 [00:00<?, ? examples/s]"
      ]
     },
     "metadata": {},
     "output_type": "display_data"
    },
    {
     "name": "stderr",
     "output_type": "stream",
     "text": [
      "1it [00:00,  5.39it/s]\n"
     ]
    },
    {
     "data": {
      "application/vnd.jupyter.widget-view+json": {
       "model_id": "3df844f8d5a64826bf329cf7e0aa0d2e",
       "version_major": 2,
       "version_minor": 0
      },
      "text/plain": [
       "Map:   0%|          | 0/4 [00:00<?, ? examples/s]"
      ]
     },
     "metadata": {},
     "output_type": "display_data"
    },
    {
     "name": "stderr",
     "output_type": "stream",
     "text": [
      "1it [00:00,  5.75it/s]\n"
     ]
    }
   ],
   "source": [
    "def generate_embeddings(descr_dict: dict[str, str]) -> dict[str, np.ndarray]:\n",
    "    key, descr = list(descr_dict.keys()), list(descr_dict.values())\n",
    "\n",
    "    descr_embeddings = fclip.encode_text(descr, batch_size=BATCH_SIZE)\n",
    "    \n",
    "    return {k: v for k, v in zip(key, descr_embeddings)}\n",
    "\n",
    "long_attr_embeddings = generate_embeddings(long_attr_descr)\n",
    "short_attr_embeddings = generate_embeddings(short_attr_descr)\n",
    "\n",
    "long_subattr_embeddings = {k: generate_embeddings(v) for k, v in long_subattr_descr.items()}\n",
    "short_subattr_embeddings = {k: generate_embeddings(v) for k, v in short_subattr_descr.items()}"
   ]
  },
  {
   "cell_type": "code",
   "execution_count": 4,
   "metadata": {},
   "outputs": [],
   "source": [
    "# save in text_embeddings/ folder\n",
    "\n",
    "with open('text_embeddings/long_attr_embeddings.pkl', 'wb') as f:\n",
    "    pkl.dump(long_attr_embeddings, f)\n",
    "\n",
    "with open('text_embeddings/short_attr_embeddings.pkl', 'wb') as f:\n",
    "    pkl.dump(short_attr_embeddings, f)\n",
    "\n",
    "with open('text_embeddings/long_subattr_embeddings.pkl', 'wb') as f:\n",
    "    pkl.dump(long_subattr_embeddings, f)\n",
    "\n",
    "with open('text_embeddings/short_subattr_embeddings.pkl', 'wb') as f:\n",
    "    pkl.dump(short_subattr_embeddings, f)"
   ]
  }
 ],
 "metadata": {
  "kernelspec": {
   "display_name": "Python 3",
   "language": "python",
   "name": "python3"
  },
  "language_info": {
   "codemirror_mode": {
    "name": "ipython",
    "version": 3
   },
   "file_extension": ".py",
   "mimetype": "text/x-python",
   "name": "python",
   "nbconvert_exporter": "python",
   "pygments_lexer": "ipython3",
   "version": "3.12.7"
  }
 },
 "nbformat": 4,
 "nbformat_minor": 2
}
