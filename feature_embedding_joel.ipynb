{
 "cells": [
  {
   "cell_type": "code",
   "execution_count": 1,
   "metadata": {},
   "outputs": [],
   "source": [
    "import os\n",
    "import numpy as np\n",
    "import pandas as pd\n",
    "from PIL import Image\n",
    "from tqdm import tqdm\n",
    "import pickle\n",
    "\n",
    "\n",
    "dirpath = '../datathon-fme-mango/archive/'\n",
    "imagepath = dirpath + 'images/images/'"
   ]
  },
  {
   "cell_type": "markdown",
   "metadata": {},
   "source": [
    "## Resnet50 embeddings"
   ]
  },
  {
   "cell_type": "code",
   "execution_count": null,
   "metadata": {},
   "outputs": [
    {
     "name": "stderr",
     "output_type": "stream",
     "text": [
      "100%|██████████| 1000/1000 [01:46<00:00,  9.39it/s]\n"
     ]
    }
   ],
   "source": [
    "import torch\n",
    "from torchvision import models, transforms\n",
    "\n",
    "EMBEDDING_DIM = 1024\n",
    "\n",
    "# load the model\n",
    "model = models.resnet50(pretrained=True)\n",
    "model = torch.nn.Sequential(*list(model.children())[:-1])\n",
    "model.eval()\n",
    "\n",
    "# load the image\n",
    "transform = transforms.Compose([\n",
    "    transforms.Resize(256),\n",
    "    transforms.CenterCrop(224),\n",
    "    transforms.ToTensor(),\n",
    "    transforms.Normalize(mean=[0.485, 0.456, 0.406], std=[0.229, 0.224, 0.225]),\n",
    "])\n",
    "\n",
    "# load the image\n",
    "def load_image(imagepath):\n",
    "    image = Image.open(imagepath)\n",
    "    image = transform(image)\n",
    "    image = image.unsqueeze(0)\n",
    "    return image\n",
    "\n",
    "# generate the embedding\n",
    "def generate_embedding(imagepath):\n",
    "    image = load_image(imagepath)\n",
    "    with torch.no_grad():\n",
    "        embedding = model(image)\n",
    "    return embedding\n",
    "\n",
    "# generate the embeddings for all images\n",
    "imagepaths = []\n",
    "embeddings = {}\n",
    "for image in tqdm(os.listdir(imagepath)):\n",
    "    try:\n",
    "        imagepaths.append(image)\n",
    "        embedding = generate_embedding(imagepath + image)\n",
    "        embeddings[image] = embedding\n",
    "    except:\n",
    "        print(f'Error with {image}')\n",
    "\n",
    "# save the embeddings\n",
    "embeddings = {k: v.numpy().flatten() for k, v in embeddings.items()}\n",
    "# save as pickle\n",
    "with open('embeddings/embeddings_resnet50.pkl', 'wb') as f:\n",
    "    pickle.dump(embeddings, f)"
   ]
  },
  {
   "cell_type": "code",
   "execution_count": null,
   "metadata": {},
   "outputs": [],
   "source": [
    "# %pip install fashion-clip "
   ]
  },
  {
   "cell_type": "markdown",
   "metadata": {},
   "source": [
    "## FashionCLIP embeddings"
   ]
  },
  {
   "cell_type": "code",
   "execution_count": null,
   "metadata": {},
   "outputs": [
    {
     "name": "stderr",
     "output_type": "stream",
     "text": [
      "C:\\Users\\joels\\AppData\\Local\\Packages\\PythonSoftwareFoundation.Python.3.12_qbz5n2kfra8p0\\LocalCache\\local-packages\\Python312\\site-packages\\tqdm\\auto.py:21: TqdmWarning: IProgress not found. Please update jupyter and ipywidgets. See https://ipywidgets.readthedocs.io/en/stable/user_install.html\n",
      "  from .autonotebook import tqdm as notebook_tqdm\n"
     ]
    }
   ],
   "source": [
    "from fashion_clip.fashion_clip import FashionCLIP\n",
    "\n",
    "fclip = FashionCLIP('fashion-clip')\n",
    "\n",
    "BATCH_SIZE = 32\n",
    "\n",
    "def has_error(imagepath):\n",
    "    try:\n",
    "        _ = Image.open(imagepath)\n",
    "        return False\n",
    "    except:\n",
    "        return True\n",
    "\n",
    "imagepaths = [image for image in os.listdir(imagepath) if not has_error(imagepath + image)]\n",
    "imagefullpaths = [imagepath + image for image in imagepaths]\n",
    "embeddings = fclip.encode_images(imagefullpaths, batch_size=BATCH_SIZE)\n",
    "\n",
    "embeddings_dict = {image: embedding for image, embedding in zip(imagepaths, embeddings)}\n",
    "\n",
    "# save as pickle\n",
    "with open('embeddings/embeddings_fclip.pkl', 'wb') as f:\n",
    "    pickle.dump(embeddings_dict, f)"
   ]
  }
 ],
 "metadata": {
  "kernelspec": {
   "display_name": "Python 3",
   "language": "python",
   "name": "python3"
  },
  "language_info": {
   "codemirror_mode": {
    "name": "ipython",
    "version": 3
   },
   "file_extension": ".py",
   "mimetype": "text/x-python",
   "name": "python",
   "nbconvert_exporter": "python",
   "pygments_lexer": "ipython3",
   "version": "3.12.7"
  }
 },
 "nbformat": 4,
 "nbformat_minor": 2
}
