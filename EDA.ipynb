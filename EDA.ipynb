{
 "cells": [
  {
   "cell_type": "code",
   "execution_count": null,
   "metadata": {},
   "outputs": [],
   "source": [
    "import pandas as pd\n",
    "import os"
   ]
  },
  {
   "cell_type": "code",
   "execution_count": null,
   "metadata": {},
   "outputs": [],
   "source": [
    "dirpath = '../datathon-fme-mango/archive/'\n",
    "\n",
    "# Load the CSV file into a DataFrame\n",
    "product_data = pd.read_csv(dirpath+'product_data.csv')\n",
    "\n",
    "# Get the unique values from the 'cod_modelo_color' column\n",
    "unique_values = product_data['cod_modelo_color'].unique()\n",
    "\n",
    "# Path to the folder containing the images\n",
    "image_folder = dirpath+'images/images/'\n",
    "\n",
    "# Get a list of all files in the folder\n",
    "image_files = os.listdir(image_folder)\n",
    "\n",
    "# Initialize a list to store results\n",
    "data = []\n",
    "\n",
    "# Loop through each unique value and count matching files\n",
    "for value in unique_values:\n",
    "    count = sum(1 for file in image_files if value in file)\n",
    "    data.append({'cod_modelo_color': value, 'file_count': count})\n",
    "\n",
    "# Create a new DataFrame with the results\n",
    "result_df = pd.DataFrame(data)"
   ]
  },
  {
   "cell_type": "code",
   "execution_count": 3,
   "metadata": {},
   "outputs": [
    {
     "data": {
      "text/plain": [
       "file_count\n",
       "2    28041\n",
       "1     5402\n",
       "Name: count, dtype: int64"
      ]
     },
     "execution_count": 3,
     "metadata": {},
     "output_type": "execute_result"
    }
   ],
   "source": [
    "result_df['file_count'].value_counts()"
   ]
  },
  {
   "cell_type": "code",
   "execution_count": 4,
   "metadata": {},
   "outputs": [
    {
     "name": "stdout",
     "output_type": "stream",
     "text": [
      "        attribute_name  unique_des_value_count\n",
      "0     cane_height_type                       6\n",
      "1    closure_placement                       6\n",
      "2      heel_shape_type                      11\n",
      "3       knit_structure                       8\n",
      "4          length_type                      12\n",
      "5      neck_lapel_type                      33\n",
      "6      silhouette_type                      33\n",
      "7   sleeve_length_type                       6\n",
      "8          toecap_type                       4\n",
      "9           waist_type                       4\n",
      "10     woven_structure                       4\n"
     ]
    }
   ],
   "source": [
    "# Load the dataframe\n",
    "attribute_data = pd.read_csv('attribute_data.csv')\n",
    "\n",
    "# Group by 'attribute_name' and count the unique values of 'des_value'\n",
    "result = (\n",
    "    attribute_data.groupby('attribute_name')['des_value']\n",
    "    .nunique()\n",
    "    .reset_index(name='unique_des_value_count')\n",
    ")\n",
    "\n",
    "# Display the results\n",
    "print(result)"
   ]
  }
 ],
 "metadata": {
  "kernelspec": {
   "display_name": "Python 3",
   "language": "python",
   "name": "python3"
  },
  "language_info": {
   "codemirror_mode": {
    "name": "ipython",
    "version": 3
   },
   "file_extension": ".py",
   "mimetype": "text/x-python",
   "name": "python",
   "nbconvert_exporter": "python",
   "pygments_lexer": "ipython3",
   "version": "3.12.7"
  }
 },
 "nbformat": 4,
 "nbformat_minor": 2
}
